{
 "cells": [
  {
   "cell_type": "code",
   "execution_count": 16,
   "metadata": {},
   "outputs": [],
   "source": [
    "import cv2\n",
    "import time"
   ]
  },
  {
   "cell_type": "code",
   "execution_count": null,
   "metadata": {},
   "outputs": [],
   "source": [
    "video= cv2.VideoCapture(0)\n",
    "\n",
    "first_frame = None\n",
    "\n",
    "while True:\n",
    "  \n",
    "    check,frame = video.read()\n",
    "    gray= cv2.cvtColor(frame,cv2.COLOR_BGR2GRAY)\n",
    "    gray= cv2.GaussianBlur(gray,(21,21),0)\n",
    "    \n",
    "    if first_frame == None:\n",
    "        first_frame = gray\n",
    "        continue\n",
    "    else:\n",
    "        deltaframe=cv2.absdiff(first_frame,gray)\n",
    "        thres_delta = cv2.threshold(deltaframe, 30 ,255, cv2.THRESH_BINARY)[1]\n",
    "        thres_delta = cv2.dilate(thres_delta , None, iterations=0 )\n",
    "    \n",
    "        (_,cnts,_) = cv2.findContours(thres_delta.copy(),cv2.RETR_EXTERNAL,cv2.CHAIN_APPROX_SIMPLE)\n",
    "    \n",
    "        for contour in cnts:\n",
    "            if cv2.contourArea(contour)<1000 :\n",
    "                 continue\n",
    "            (x,y,w,h) = cv2.boundingRect(contour)\n",
    "            cv2.rectangle( x,y (x+w,y+h),(0,255,0),3)\n",
    "    \n",
    "        cv2.imshow(\"frame\",frame)\n",
    "        cv2.imshow(\"grey\",gray)\n",
    "        cv2.imshow(\"delta frame\",deltaframe)\n",
    "        cv2.imshow(\"thres_delta\",thres_delta)\n",
    "    \n",
    "    \n",
    "    \n",
    "    \n",
    "    key=cv2.waitKey(1)\n",
    "    if (key == ord(\"q\")):\n",
    "        break\n",
    "\n",
    "video.release()\n",
    "cv2.destroyAllWindows()\n",
    "\n",
    "\n"
   ]
  },
  {
   "cell_type": "code",
   "execution_count": 12,
   "metadata": {},
   "outputs": [],
   "source": []
  },
  {
   "cell_type": "code",
   "execution_count": null,
   "metadata": {},
   "outputs": [],
   "source": []
  },
  {
   "cell_type": "code",
   "execution_count": null,
   "metadata": {},
   "outputs": [],
   "source": []
  },
  {
   "cell_type": "code",
   "execution_count": null,
   "metadata": {},
   "outputs": [],
   "source": []
  },
  {
   "cell_type": "code",
   "execution_count": null,
   "metadata": {},
   "outputs": [],
   "source": []
  }
 ],
 "metadata": {
  "kernelspec": {
   "display_name": "Python 3",
   "language": "python",
   "name": "python3"
  },
  "language_info": {
   "codemirror_mode": {
    "name": "ipython",
    "version": 3
   },
   "file_extension": ".py",
   "mimetype": "text/x-python",
   "name": "python",
   "nbconvert_exporter": "python",
   "pygments_lexer": "ipython3",
   "version": "3.7.4"
  }
 },
 "nbformat": 4,
 "nbformat_minor": 2
}
